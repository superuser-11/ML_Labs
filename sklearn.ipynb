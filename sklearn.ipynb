{
  "nbformat": 4,
  "nbformat_minor": 0,
  "metadata": {
    "colab": {
      "provenance": [],
      "mount_file_id": "1Z_9KHq5m92yCxKGLEkJIZrzC5CLWMJnA",
      "authorship_tag": "ABX9TyPp84E1qdUvNh+Gaie2KbV3",
      "include_colab_link": true
    },
    "kernelspec": {
      "name": "python3",
      "display_name": "Python 3"
    },
    "language_info": {
      "name": "python"
    }
  },
  "cells": [
    {
      "cell_type": "markdown",
      "metadata": {
        "id": "view-in-github",
        "colab_type": "text"
      },
      "source": [
        "<a href=\"https://colab.research.google.com/github/superuser-11/ML_Labs/blob/main/sklearn.ipynb\" target=\"_parent\"><img src=\"https://colab.research.google.com/assets/colab-badge.svg\" alt=\"Open In Colab\"/></a>"
      ]
    },
    {
      "cell_type": "code",
      "source": [
        "from google.colab import drive\n",
        "drive.mount('/content/drive')\n",
        "\n",
        "# Change directory to your folder\n",
        "import os\n",
        "os.chdir('/content/drive/MyDrive/Colab Notebooks/Tools')\n"
      ],
      "metadata": {
        "colab": {
          "base_uri": "https://localhost:8080/"
        },
        "id": "FeqvwoTUFN6b",
        "outputId": "a982a965-e599-459f-cc25-b1ce745a5ffe"
      },
      "execution_count": 1,
      "outputs": [
        {
          "output_type": "stream",
          "name": "stdout",
          "text": [
            "Drive already mounted at /content/drive; to attempt to forcibly remount, call drive.mount(\"/content/drive\", force_remount=True).\n"
          ]
        }
      ]
    },
    {
      "cell_type": "code",
      "execution_count": 48,
      "metadata": {
        "id": "OwOuyV3BE49E"
      },
      "outputs": [],
      "source": [
        "import numpy as np\n",
        "import matplotlib.pyplot as plt\n",
        "from sklearn.linear_model import SGDRegressor\n",
        "from sklearn.preprocessing import StandardScaler\n",
        "# from lab_utils_multi import  load_house_data\n",
        "# from lab_utils_common import dlc\n",
        "import pandas as pd\n",
        "np.set_printoptions(precision=2)\n",
        "plt.style.use('./deeplearning.mplstyle')"
      ]
    },
    {
      "cell_type": "code",
      "source": [
        "data = np.loadtxt(\"/content/drive/MyDrive/Colab Notebooks/Tools/houses.txt\", delimiter=',')\n",
        "# load the dataset\n",
        "X_train = data[:, :4]   # Features → columns 0,1,2,3\n",
        "y_train = data[:, 4]    # Target → column 4 (price)\n",
        "\n",
        "X_features = ['size(sqft)','bedrooms','floors','age']\n",
        "\n",
        "\n",
        "# --- Extra: inspect with pandas ---\n",
        "import pandas as pd\n",
        "df = pd.read_csv(\"/content/drive/MyDrive/Colab Notebooks/Tools/houses.txt\", sep=\",\", header=None)\n",
        "df.columns = ['size(sqft)','bedrooms','floors','age','price']\n",
        "\n",
        "print(df[['size(sqft)','bedrooms','floors','age']].describe())"
      ],
      "metadata": {
        "id": "Xo7ov4tK9jmc",
        "colab": {
          "base_uri": "https://localhost:8080/"
        },
        "outputId": "f5b8b7dc-bb01-4038-8c2e-b34782a02882"
      },
      "execution_count": 64,
      "outputs": [
        {
          "output_type": "stream",
          "name": "stdout",
          "text": [
            "        size(sqft)    bedrooms      floors         age\n",
            "count   100.000000  100.000000  100.000000  100.000000\n",
            "mean   1413.710000    2.710000    1.380000   38.650000\n",
            "std     414.249286    0.655898    0.487832   25.914925\n",
            "min     788.000000    0.000000    1.000000   12.000000\n",
            "25%    1091.000000    2.000000    1.000000   17.000000\n",
            "50%    1405.500000    3.000000    1.000000   25.000000\n",
            "75%    1657.000000    3.000000    2.000000   57.250000\n",
            "max    3194.000000    4.000000    2.000000  107.000000\n"
          ]
        }
      ]
    },
    {
      "cell_type": "code",
      "source": [
        "scaler = StandardScaler()\n",
        "X_norm = scaler.fit_transform(X_train)\n",
        "print(f\"Peak to Peak range by column in Raw        X:{np.ptp(X_train,axis=0)}\")\n",
        "print(f\"Peak to Peak range by column in Normalized X:{np.ptp(X_norm,axis=0)}\")"
      ],
      "metadata": {
        "colab": {
          "base_uri": "https://localhost:8080/"
        },
        "id": "vUuTWLZ5HZc6",
        "outputId": "968a950e-92bf-41b4-92fd-0440ff0a5403"
      },
      "execution_count": 15,
      "outputs": [
        {
          "output_type": "stream",
          "name": "stdout",
          "text": [
            "Peak to Peak range by column in Raw        X:[2.41e+03 4.00e+00 1.00e+00 9.50e+01]\n",
            "Peak to Peak range by column in Normalized X:[5.84 6.13 2.06 3.68]\n"
          ]
        }
      ]
    },
    {
      "cell_type": "code",
      "source": [
        "sgdr = SGDRegressor(max_iter=1000)\n",
        "sgdr.fit(X_norm, y_train)\n",
        "print(sgdr)\n",
        "print(f\"number of iterations completed: {sgdr.n_iter_}, number of weight updates: {sgdr.t_}\")"
      ],
      "metadata": {
        "colab": {
          "base_uri": "https://localhost:8080/"
        },
        "id": "JROfaRmdKEI5",
        "outputId": "8d847f64-8cfe-44b9-f612-315335ba5702"
      },
      "execution_count": 16,
      "outputs": [
        {
          "output_type": "stream",
          "name": "stdout",
          "text": [
            "SGDRegressor()\n",
            "number of iterations completed: 124, number of weight updates: 12401.0\n"
          ]
        }
      ]
    },
    {
      "cell_type": "code",
      "source": [
        "b_norm = sgdr.intercept_\n",
        "w_norm = sgdr.coef_\n",
        "print(f\"model parameters:                   w: {w_norm}, b:{b_norm}\")"
      ],
      "metadata": {
        "colab": {
          "base_uri": "https://localhost:8080/"
        },
        "id": "l4tcaxwuRGaL",
        "outputId": "3b404d33-1ff4-41ef-9de9-eaf8d67b83df"
      },
      "execution_count": 17,
      "outputs": [
        {
          "output_type": "stream",
          "name": "stdout",
          "text": [
            "model parameters:                   w: [110.22 -21.22 -32.38 -37.85], b:[362.25]\n"
          ]
        }
      ]
    },
    {
      "cell_type": "code",
      "source": [
        "# make a prediction using sgdr.predict()\n",
        "y_pred_sgd = sgdr.predict(X_norm)\n",
        "# make a prediction using w,b.\n",
        "y_pred = np.dot(X_norm, w_norm) + b_norm\n",
        "print(f\"prediction using np.dot() and sgdr.predict match: {(y_pred == y_pred_sgd).all()}\")\n",
        "\n",
        "print(f\"Prediction on training set:\\n{y_pred[:4]}\" )\n",
        "print(f\"Target values \\n{y_train[:4]}\")"
      ],
      "metadata": {
        "colab": {
          "base_uri": "https://localhost:8080/"
        },
        "id": "ysoH01NkTmcp",
        "outputId": "9612de08-3a3d-4ebb-91d6-d2ddb4c60ed8"
      },
      "execution_count": 18,
      "outputs": [
        {
          "output_type": "stream",
          "name": "stdout",
          "text": [
            "prediction using np.dot() and sgdr.predict match: True\n",
            "Prediction on training set:\n",
            "[248.55 295.58 485.85 389.78]\n",
            "Target values \n",
            "[271.5 300.  509.8 394. ]\n"
          ]
        }
      ]
    },
    {
      "cell_type": "code",
      "source": [
        "# plot predictions and targets vs original features\n",
        "fig,ax=plt.subplots(1,4,figsize=(12,3),sharey=True)\n",
        "for i in range(len(ax)):\n",
        "    ax[i].scatter(X_train[:,i],y_train, label = 'target')\n",
        "    ax[i].set_xlabel(X_features[i])\n",
        "    ax[i].scatter(X_train[:,i],y_pred,color=dlc[\"dlorange\"], label = 'predict')\n",
        "ax[0].set_ylabel(\"Price\"); ax[0].legend();\n",
        "fig.suptitle(\"target versus prediction using z-score normalized model\")\n",
        "plt.show()"
      ],
      "metadata": {
        "colab": {
          "base_uri": "https://localhost:8080/",
          "height": 295
        },
        "id": "5ixiLRb0TvbZ",
        "outputId": "43989580-01b5-4ec5-c693-808b18993191"
      },
      "execution_count": 19,
      "outputs": [
        {
          "output_type": "display_data",
          "data": {
            "text/plain": [
              "<Figure size 1200x300 with 4 Axes>"
            ],
            "image/png": "[encoded data removed]"
          },
          "metadata": {}
        }
      ]
    },
    {
      "cell_type": "code",
      "source": [
        "# unseen data\n",
        "square_feet = int(input(\"Enter the square feet: \"))\n",
        "num_bedrooms = int(input(\"Enter the number of bedrooms: \"))\n",
        "floor = int(input(\"Enter the floor number: \"))\n",
        "house_age = int(input(\"Enter the age of house: \"))\n",
        "\n",
        "new_house = [[square_feet, num_bedrooms, floor, house_age]]\n",
        "print(new_house)   # size=1200sqft, 3 bedrooms, 1 floor, 10 years old\n",
        "\n",
        "\n"
      ],
      "metadata": {
        "id": "kTrAi1iwUluI",
        "colab": {
          "base_uri": "https://localhost:8080/"
        },
        "outputId": "955451cc-fbca-46dd-f8bc-ba332f216135"
      },
      "execution_count": 71,
      "outputs": [
        {
          "output_type": "stream",
          "name": "stdout",
          "text": [
            "Enter the square feet: 800\n",
            "Enter the number of bedrooms: 2\n",
            "Enter the floor number: 1\n",
            "Enter the age of house: 12\n",
            "[[800, 2, 1, 12]]\n"
          ]
        }
      ]
    },
    {
      "cell_type": "code",
      "source": [
        "#normalization\n",
        "new_house_norm = scaler.transform(new_house)\n",
        "print(f\"The normalized value of new house is: {new_house_norm}\")\n"
      ],
      "metadata": {
        "colab": {
          "base_uri": "https://localhost:8080/"
        },
        "id": "Kg2C5ZDfUwRR",
        "outputId": "39dd79eb-693a-4a74-feb4-04ac4f9b7fde"
      },
      "execution_count": 72,
      "outputs": [
        {
          "output_type": "stream",
          "name": "stdout",
          "text": [
            "The normalized value of new house is: [[-1.49 -1.09 -0.78 -1.03]]\n"
          ]
        }
      ]
    },
    {
      "cell_type": "code",
      "source": [
        "predicted_price = sgdr.predict(new_house_norm)\n",
        "price_value = predicted_price[0]\n",
        "\n",
        "print(f\"The predicted price for this house is ${price_value:,.0f}K\")\n"
      ],
      "metadata": {
        "colab": {
          "base_uri": "https://localhost:8080/"
        },
        "id": "iM6aDrCUUzBL",
        "outputId": "26ee9797-f9ec-4081-8f2b-fdf13df5195f"
      },
      "execution_count": 73,
      "outputs": [
        {
          "output_type": "stream",
          "name": "stdout",
          "text": [
            "The predicted price for this house is $286K\n"
          ]
        }
      ]
    },
    {
      "cell_type": "code",
      "source": [
        "# ---- SAVE ----\n",
        "import pickle\n",
        "\n",
        "with open(\"/content/house_price_model.pkl\", \"wb\") as f:\n",
        "    pickle.dump((scaler, sgdr), f)\n",
        "\n",
        "print(\"✅ Model saved!\")\n",
        "\n",
        "# ---- LOAD ----\n",
        "with open(\"/content/house_price_model.pkl\", \"rb\") as f:\n",
        "    scaler, sgdr = pickle.load(f)\n",
        "\n",
        "print(\"✅ Model loaded!\")\n"
      ],
      "metadata": {
        "colab": {
          "base_uri": "https://localhost:8080/"
        },
        "id": "7tpPI_hSj2bM",
        "outputId": "8fabfbe1-70ac-4f37-85dd-e462dd67ceb0"
      },
      "execution_count": 77,
      "outputs": [
        {
          "output_type": "stream",
          "name": "stdout",
          "text": [
            "✅ Model saved!\n",
            "✅ Model loaded!\n"
          ]
        }
      ]
    },
    {
      "cell_type": "code",
      "source": [
        "from google.colab import files\n",
        "files.download(\"/content/house_price_model.pkl\")\n"
      ],
      "metadata": {
        "colab": {
          "base_uri": "https://localhost:8080/",
          "height": 17
        },
        "id": "Fu79CaCmkbXf",
        "outputId": "91c53d6d-2def-4eb6-c82b-9b0280e4505c"
      },
      "execution_count": 78,
      "outputs": [
        {
          "output_type": "display_data",
          "data": {
            "text/plain": [
              "<IPython.core.display.Javascript object>"
            ],
            "application/javascript": [
              "\n",
              "    async function download(id, filename, size) {\n",
              "      if (!google.colab.kernel.accessAllowed) {\n",
              "        return;\n",
              "      }\n",
              "      const div = document.createElement('div');\n",
              "      const label = document.createElement('label');\n",
              "      label.textContent = `Downloading \"${filename}\": `;\n",
              "      div.appendChild(label);\n",
              "      const progress = document.createElement('progress');\n",
              "      progress.max = size;\n",
              "      div.appendChild(progress);\n",
              "      document.body.appendChild(div);\n",
              "\n",
              "      const buffers = [];\n",
              "      let downloaded = 0;\n",
              "\n",
              "      const channel = await google.colab.kernel.comms.open(id);\n",
              "      // Send a message to notify the kernel that we're ready.\n",
              "      channel.send({})\n",
              "\n",
              "      for await (const message of channel.messages) {\n",
              "        // Send a message to notify the kernel that we're ready.\n",
              "        channel.send({})\n",
              "        if (message.buffers) {\n",
              "          for (const buffer of message.buffers) {\n",
              "            buffers.push(buffer);\n",
              "            downloaded += buffer.byteLength;\n",
              "            progress.value = downloaded;\n",
              "          }\n",
              "        }\n",
              "      }\n",
              "      const blob = new Blob(buffers, {type: 'application/binary'});\n",
              "      const a = document.createElement('a');\n",
              "      a.href = window.URL.createObjectURL(blob);\n",
              "      a.download = filename;\n",
              "      div.appendChild(a);\n",
              "      a.click();\n",
              "      div.remove();\n",
              "    }\n",
              "  "
            ]
          },
          "metadata": {}
        },
        {
          "output_type": "display_data",
          "data": {
            "text/plain": [
              "<IPython.core.display.Javascript object>"
            ],
            "application/javascript": [
              "download(\"download_821c0327-4178-41f3-9ffc-2e90ad6abe44\", \"house_price_model.pkl\", 1123)"
            ]
          },
          "metadata": {}
        }
      ]
    }
  ]
}