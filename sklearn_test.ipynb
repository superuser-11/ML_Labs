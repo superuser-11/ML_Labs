{
  "nbformat": 4,
  "nbformat_minor": 0,
  "metadata": {
    "colab": {
      "provenance": [],
      "mount_file_id": "1ZkVWJvAxjugZQ8DiV6t_kYZyCcqLE-0q",
      "authorship_tag": "ABX9TyMbAzY0NlZEGVfELnd6evmE",
      "include_colab_link": true
    },
    "kernelspec": {
      "name": "python3",
      "display_name": "Python 3"
    },
    "language_info": {
      "name": "python"
    }
  },
  "cells": [
    {
      "cell_type": "markdown",
      "metadata": {
        "id": "view-in-github",
        "colab_type": "text"
      },
      "source": [
        "<a href=\"https://colab.research.google.com/github/superuser-11/ML_Labs/blob/main/sklearn_test.ipynb\" target=\"_parent\"><img src=\"https://colab.research.google.com/assets/colab-badge.svg\" alt=\"Open In Colab\"/></a>"
      ]
    },
    {
      "cell_type": "code",
      "source": [
        "from sklearn.linear_model import SGDRegressor\n",
        "from sklearn.preprocessing import StandardScaler"
      ],
      "metadata": {
        "id": "B-7f3xg_mDa9"
      },
      "execution_count": 15,
      "outputs": []
    },
    {
      "cell_type": "code",
      "execution_count": 19,
      "metadata": {
        "colab": {
          "base_uri": "https://localhost:8080/"
        },
        "id": "JCVMlZTJlb6L",
        "outputId": "7ed6656a-31f4-4b31-a6bd-127031ebb71d"
      },
      "outputs": [
        {
          "output_type": "stream",
          "name": "stdout",
          "text": [
            "✅ Model loaded!\n"
          ]
        }
      ],
      "source": [
        "# ---- LOAD ----\n",
        "import pickle\n",
        "\n",
        "with open(\"/content/drive/MyDrive/Colab Notebooks/house_price_model.pkl\", \"rb\") as f:\n",
        "    scaler, sgdr = pickle.load(f)\n",
        "print(\"✅ Model loaded!\")"
      ]
    },
    {
      "cell_type": "code",
      "source": [
        "# unseen data\n",
        "square_feet = int(input(\"Enter the square feet: \"))\n",
        "num_bedrooms = int(input(\"Enter the number of bedrooms: \"))\n",
        "floor = int(input(\"Enter the floor number: \"))\n",
        "house_age = int(input(\"Enter the age of house: \"))\n",
        "\n",
        "new_house = [[square_feet, num_bedrooms, floor, house_age]]\n",
        "print(new_house)   # size=1200sqft, 3 bedrooms, 1 floor, 10 years old\n",
        "\n",
        "\n",
        "\n",
        "#normalization\n",
        "new_house_norm = scaler.transform(new_house)\n",
        "print(f\"The normalized value of new house is: {new_house_norm}\")\n"
      ],
      "metadata": {
        "colab": {
          "base_uri": "https://localhost:8080/"
        },
        "id": "Hn1ZDUTmmFjR",
        "outputId": "2f3ca1bf-be00-42c0-efc1-7f2a20b8f5b0"
      },
      "execution_count": 20,
      "outputs": [
        {
          "output_type": "stream",
          "name": "stdout",
          "text": [
            "Enter the square feet: 1300\n",
            "Enter the number of bedrooms: 3\n",
            "Enter the floor number: 2\n",
            "Enter the age of house: 15\n",
            "[[1300, 3, 2, 15]]\n",
            "The normalized value of new house is: [[-0.27587941  0.44436943  1.27733275 -0.91719904]]\n"
          ]
        }
      ]
    },
    {
      "cell_type": "code",
      "source": [
        "predicted_price = sgdr.predict(new_house_norm)\n",
        "price_value = predicted_price[0]\n",
        "\n",
        "print(f\"The predicted price for this house is ${price_value:,.0f}K\")"
      ],
      "metadata": {
        "colab": {
          "base_uri": "https://localhost:8080/"
        },
        "id": "5KVcRTkJnfpd",
        "outputId": "b87b6cfa-6e49-4cb8-c132-f3d733a3441a"
      },
      "execution_count": 21,
      "outputs": [
        {
          "output_type": "stream",
          "name": "stdout",
          "text": [
            "The predicted price for this house is $316K\n"
          ]
        }
      ]
    }
  ]
}